{
 "cells": [
  {
   "cell_type": "markdown",
   "metadata": {},
   "source": [
    "[Data description](http://www.opendatanetwork.com/dataset/data.cityofnewyork.us/9w7m-hzhe) \n",
    "\n",
    "Articles\n",
    "\n",
    "* [Lower fines](http://www.nydailynews.com/new-york/restaurants-cheer-plan-slash-penalties-article-1.1430407) (nice window photo)\n",
    "* [Grading pooh-pooh](http://www.nydailynews.com/opinion/city-council-throws-rotten-tomatoes-restaurant-grades-article-1.1036545) (grading placards)"
   ]
  },
  {
   "cell_type": "markdown",
   "metadata": {},
   "source": [
    "# To do\n",
    "\n",
    "1. Hall of shame (high scorers)\n",
    "2. Grade not posted\n",
    "\n",
    "Other post(?):\n",
    "\n",
    "1. Violations '7' (obstruction) and \n",
    "    1. 10A (no toilet paper)"
   ]
  },
  {
   "cell_type": "markdown",
   "metadata": {},
   "source": [
    "# Requirements"
   ]
  },
  {
   "cell_type": "code",
   "execution_count": 1,
   "metadata": {
    "collapsed": false
   },
   "outputs": [],
   "source": [
    "from __future__ import division, print_function\n",
    "import pandas as pd\n",
    "import numpy as np\n",
    "import bokeh as bk\n",
    "import pickle\n",
    "\n",
    "import my_functions as mf\n",
    "\n",
    "from bokeh.plotting import figure, output_notebook, show, output_file\n",
    "from bokeh.io import push_notebook, reset_output\n",
    "from bokeh.models import ColumnDataSource, HoverTool, Span, Range1d\n",
    "from bokeh.embed import components"
   ]
  },
  {
   "cell_type": "code",
   "execution_count": 2,
   "metadata": {
    "collapsed": false,
    "scrolled": true
   },
   "outputs": [
    {
     "data": {
      "text/html": [
       "\n",
       "    <div class=\"bk-banner\">\n",
       "        <a href=\"http://bokeh.pydata.org\" target=\"_blank\" class=\"bk-logo bk-logo-small bk-logo-notebook\"></a>\n",
       "        <span id=\"a7cb4706-7fcb-415a-80c2-16c62ef4ca6d\">Loading BokehJS ...</span>\n",
       "    </div>"
      ]
     },
     "metadata": {},
     "output_type": "display_data"
    },
    {
     "data": {
      "application/javascript": [
       "\n",
       "(function(global) {\n",
       "  function now() {\n",
       "    return new Date();\n",
       "  }\n",
       "\n",
       "  if (typeof (window._bokeh_onload_callbacks) === \"undefined\") {\n",
       "    window._bokeh_onload_callbacks = [];\n",
       "  }\n",
       "\n",
       "  function run_callbacks() {\n",
       "    window._bokeh_onload_callbacks.forEach(function(callback) { callback() });\n",
       "    delete window._bokeh_onload_callbacks\n",
       "    console.info(\"Bokeh: all callbacks have finished\");\n",
       "  }\n",
       "\n",
       "  function load_libs(js_urls, callback) {\n",
       "    window._bokeh_onload_callbacks.push(callback);\n",
       "    if (window._bokeh_is_loading > 0) {\n",
       "      console.log(\"Bokeh: BokehJS is being loaded, scheduling callback at\", now());\n",
       "      return null;\n",
       "    }\n",
       "    if (js_urls == null || js_urls.length === 0) {\n",
       "      run_callbacks();\n",
       "      return null;\n",
       "    }\n",
       "    console.log(\"Bokeh: BokehJS not loaded, scheduling load and callback at\", now());\n",
       "    window._bokeh_is_loading = js_urls.length;\n",
       "    for (var i = 0; i < js_urls.length; i++) {\n",
       "      var url = js_urls[i];\n",
       "      var s = document.createElement('script');\n",
       "      s.src = url;\n",
       "      s.async = false;\n",
       "      s.onreadystatechange = s.onload = function() {\n",
       "        window._bokeh_is_loading--;\n",
       "        if (window._bokeh_is_loading === 0) {\n",
       "          console.log(\"Bokeh: all BokehJS libraries loaded\");\n",
       "          run_callbacks()\n",
       "        }\n",
       "      };\n",
       "      s.onerror = function() {\n",
       "        console.warn(\"failed to load library \" + url);\n",
       "      };\n",
       "      console.log(\"Bokeh: injecting script tag for BokehJS library: \", url);\n",
       "      document.getElementsByTagName(\"head\")[0].appendChild(s);\n",
       "    }\n",
       "  };\n",
       "\n",
       "  var js_urls = ['https://cdn.pydata.org/bokeh/release/bokeh-0.11.1.min.js', 'https://cdn.pydata.org/bokeh/release/bokeh-widgets-0.11.1.min.js', 'https://cdn.pydata.org/bokeh/release/bokeh-compiler-0.11.1.min.js'];\n",
       "\n",
       "  var inline_js = [\n",
       "    function(Bokeh) {\n",
       "      Bokeh.set_log_level(\"info\");\n",
       "    },\n",
       "    \n",
       "    function(Bokeh) {\n",
       "      Bokeh.$(\"#a7cb4706-7fcb-415a-80c2-16c62ef4ca6d\").text(\"BokehJS successfully loaded\");\n",
       "    },\n",
       "    function(Bokeh) {\n",
       "      console.log(\"Bokeh: injecting CSS: https://cdn.pydata.org/bokeh/release/bokeh-0.11.1.min.css\");\n",
       "      Bokeh.embed.inject_css(\"https://cdn.pydata.org/bokeh/release/bokeh-0.11.1.min.css\");\n",
       "      console.log(\"Bokeh: injecting CSS: https://cdn.pydata.org/bokeh/release/bokeh-widgets-0.11.1.min.css\");\n",
       "      Bokeh.embed.inject_css(\"https://cdn.pydata.org/bokeh/release/bokeh-widgets-0.11.1.min.css\");\n",
       "    }\n",
       "  ];\n",
       "\n",
       "  function run_inline_js() {\n",
       "    for (var i = 0; i < inline_js.length; i++) {\n",
       "      inline_js[i](window.Bokeh);\n",
       "    }\n",
       "  }\n",
       "\n",
       "  if (window._bokeh_is_loading === 0) {\n",
       "    console.log(\"Bokeh: BokehJS loaded, going straight to plotting\");\n",
       "    run_inline_js();\n",
       "  } else {\n",
       "    load_libs(js_urls, function() {\n",
       "      console.log(\"Bokeh: BokehJS plotting callback run at\", now());\n",
       "      run_inline_js();\n",
       "    });\n",
       "  }\n",
       "}(this));"
      ]
     },
     "metadata": {},
     "output_type": "display_data"
    }
   ],
   "source": [
    "output_notebook()"
   ]
  },
  {
   "cell_type": "markdown",
   "metadata": {},
   "source": [
    "# Load data"
   ]
  },
  {
   "cell_type": "code",
   "execution_count": 3,
   "metadata": {
    "collapsed": true
   },
   "outputs": [],
   "source": [
    "df15 = pd.read_csv('inspected_2015.csv',\n",
    "                   parse_dates=['INSPECTION DATE','GRADE DATE'])\n",
    "original_file = 'DOHMH_New_York_City_Restaurant_Inspection_Results_new.csv'"
   ]
  },
  {
   "cell_type": "code",
   "execution_count": 4,
   "metadata": {
    "collapsed": false
   },
   "outputs": [],
   "source": [
    "with open('dicts.pickle','rb') as f:\n",
    "    dict_action, dict_violation = pickle.load(f)"
   ]
  },
  {
   "cell_type": "code",
   "execution_count": 17,
   "metadata": {
    "collapsed": true
   },
   "outputs": [],
   "source": [
    "days_of_week = ['Mon','Tue','Wed','Thu','Fri','Sat','Sun']"
   ]
  },
  {
   "cell_type": "markdown",
   "metadata": {},
   "source": [
    "# Inpections by day of week"
   ]
  },
  {
   "cell_type": "code",
   "execution_count": 5,
   "metadata": {
    "collapsed": true
   },
   "outputs": [],
   "source": [
    "day_2015 = df15.groupby('INSPECTION DATE')['CAMIS'].nunique()  # Count unique inspections"
   ]
  },
  {
   "cell_type": "code",
   "execution_count": 7,
   "metadata": {
    "collapsed": false
   },
   "outputs": [],
   "source": [
    "day_2015 = day_2015.reindex(pd.date_range('2015-01-01','2015-12-31')) # Add days w/ no inspections\n",
    "day_2015.fillna(0,inplace=True)\n",
    "day_2015 = day_2015.apply(int)"
   ]
  },
  {
   "cell_type": "code",
   "execution_count": 8,
   "metadata": {
    "collapsed": true
   },
   "outputs": [],
   "source": [
    "holidays = pd.to_datetime(['2015-01-01','2015-01-19','2015-02-16','2015-05-25','2015-07-04',\n",
    "            '2015-09-07','2015-10-12','2015-11-03','2015-11-26','2015-12-25'])\n",
    "# New Year, MLK, President's, Memorial, ID4, \n",
    "# Labor, Columbus, Election, Thanksgiving, Xmas\n",
    "day_2015.drop(holidays,inplace=True)"
   ]
  },
  {
   "cell_type": "code",
   "execution_count": 9,
   "metadata": {
    "collapsed": true
   },
   "outputs": [],
   "source": [
    "day_2015 = day_2015.to_frame('INSPECTIONS')\n",
    "day_2015['DAY'] = day_2015.index.dayofweek\n",
    "day_2015.index.names = ['DATE']"
   ]
  },
  {
   "cell_type": "code",
   "execution_count": 12,
   "metadata": {
    "collapsed": true
   },
   "outputs": [],
   "source": [
    "reset_output()\n",
    "p = figure(title='No. of NYC restaurant inspections by day (2015)',\n",
    "           x_axis_label='*NY state holidays are excluded.',\n",
    "          x_range=['Mon','Tue','Wed','Thu','Fri','Sat','Sun'],\n",
    "          y_range=Range1d(0,320))\n",
    "hover = HoverTool(tooltips='@DATE')\n",
    "p.add_tools(hover)\n",
    "p.title_text_font_size = '14pt'\n",
    "p.xaxis.axis_label_text_font_size = '10pt'\n",
    "\n",
    "source = ColumnDataSource(day_2015)\n",
    "source.add(day_2015.index.strftime('%m/%d/%y'), name=\"DATE\")\n",
    "\n",
    "# freq = day_2015.groupby('DAY')['INSPECTIONS'].value_counts() # Size for scatter plot\n",
    "# no longer used\n",
    "\n",
    "p.circle(day_2015['DAY']+1,'INSPECTIONS',\n",
    "         # size = day_2015.apply(lambda x: freq[x['DAY'],x['INSPECTIONS']], axis=1) *2.3, \n",
    "         size = 6, alpha=0.5, line_color=None,\n",
    "         source = source,\n",
    "         legend = 'Date(s)') # +1 b/c range starts at 0\n",
    "\n",
    "mean = day_2015.groupby(\"DAY\")['INSPECTIONS'].mean()\n",
    "std = day_2015.groupby(\"DAY\")['INSPECTIONS'].std()\n",
    "source2 = ColumnDataSource({})\n",
    "source2.add(mean.values,name=\"DATE\") \n",
    "\n",
    "err_x = []\n",
    "err_y = []\n",
    "\n",
    "for x, y, yerr in zip(mean.index+1,mean.values,std.values):\n",
    "    err_x.append((x,x))\n",
    "    err_y.append((y-yerr,y+yerr))\n",
    "\n",
    "s_color = 'coral'    \n",
    "s_width = 1.5\n",
    "p.rect(mean.index+1, mean/2, width=.3, height=mean,\n",
    "      fill_color=None, line_color=s_color, line_width=s_width,\n",
    "      legend='Mean',\n",
    "       source=source2)\n",
    "p.multi_line(err_x,err_y,\n",
    "             color=s_color,line_width=s_width,\n",
    "             legend='Stdv')\n",
    "\n",
    "p.xgrid.grid_line_color = None\n",
    "p.xaxis.major_tick_line_color = None\n",
    "# p.legend.location('top_right')\n",
    "\n",
    "output_file('images/day_inspection.html')\n",
    "show(p)"
   ]
  },
  {
   "cell_type": "markdown",
   "metadata": {},
   "source": [
    "# Score by day"
   ]
  },
  {
   "cell_type": "code",
   "execution_count": 13,
   "metadata": {
    "collapsed": true
   },
   "outputs": [],
   "source": [
    "score_day = df15.groupby(['INSPECTION DATE','CAMIS'])['SCORE'].max().mean(level=0)"
   ]
  },
  {
   "cell_type": "code",
   "execution_count": 15,
   "metadata": {
    "collapsed": false
   },
   "outputs": [],
   "source": [
    "day_2015 = pd.concat([day_2015, score_day], axis=1)"
   ]
  },
  {
   "cell_type": "code",
   "execution_count": 18,
   "metadata": {
    "collapsed": false
   },
   "outputs": [],
   "source": [
    "reset_output()\n",
    "from bokeh.models import Span\n",
    "\n",
    "p = figure(title = 'NYC inspection score by day',\n",
    "           x_range=days_of_week, y_range=Range1d(0,25))\n",
    "p.title_text_font_size = '14pt'\n",
    "# p.xaxis.axis_label_text_font_size = '10pt'\n",
    "\n",
    "hover = HoverTool(tooltips='@DATE')\n",
    "p.add_tools(hover)\n",
    "\n",
    "source = ColumnDataSource(day_2015)\n",
    "source.add(day_2015.index.strftime('%m/%d/%y'), name=\"DATE\")\n",
    "\n",
    "# A-B line\n",
    "AB_threshold = Span(location=13.5, dimension='width',\n",
    "                   line_color='#BBBBBB', line_dash='dashed')\n",
    "p.renderers.extend([AB_threshold])\n",
    "\n",
    "#def mtext(x,y,color):\n",
    "#    p.text(0.8,12, text='[A]', text_font_style='bold', text_font_size,  text_color='royalblue')\n",
    "\n",
    "x_pos = 7.3\n",
    "f_size = '11pt'\n",
    "p.text(x_pos,12.5, text=['A'], text_font_style='bold', text_font_size=f_size,  text_color='royalblue')\n",
    "p.text(x_pos,13.7, text=['B'], text_font_style='bold', text_font_size=f_size, text_color='forestgreen')\n",
    "\n",
    "c_alpha = 0.5\n",
    "p.circle(day_2015['DAY']+1,'SCORE',\n",
    "         # line_alpha=c_alpha,\n",
    "         fill_alpha=c_alpha,\n",
    "         line_width=1,\n",
    "         line_color=None,\n",
    "         size = 6,\n",
    "         legend = 'Date(s)',\n",
    "         source = source)\n",
    "\n",
    "mean = day_2015.groupby(\"DAY\")['SCORE'].mean()\n",
    "std = day_2015.groupby(\"DAY\")['SCORE'].std()\n",
    "source2 = ColumnDataSource({})\n",
    "source2.add(mean.values,name=\"DATE\") \n",
    "\n",
    "err_x = []\n",
    "err_y = []\n",
    "\n",
    "for x, y, yerr in zip(mean.index+1,mean.values,std.values):\n",
    "    err_x.append((x,x))\n",
    "    err_y.append((y-yerr,y+yerr))\n",
    "\n",
    "s_color = 'coral'    \n",
    "s_width = 1.5\n",
    "p.rect(mean.index+1, mean/2, width=.3, height=mean,\n",
    "      fill_color=None, line_color=s_color, line_width=s_width,\n",
    "      legend='Mean',\n",
    "       source=source2)\n",
    "p.multi_line(err_x,err_y,\n",
    "             color=s_color,line_width=s_width,\n",
    "             legend='Stdv')\n",
    "\n",
    "p.xgrid.grid_line_color = None\n",
    "p.xaxis.major_tick_line_color = None\n",
    "\n",
    "output_file('images/score_day.html')\n",
    "show(p)"
   ]
  },
  {
   "cell_type": "code",
   "execution_count": null,
   "metadata": {
    "collapsed": true
   },
   "outputs": [],
   "source": []
  },
  {
   "cell_type": "markdown",
   "metadata": {},
   "source": [
    "# Sandbox"
   ]
  },
  {
   "cell_type": "code",
   "execution_count": 130,
   "metadata": {
    "collapsed": false
   },
   "outputs": [],
   "source": [
    "dfx.columns = ['A','B','C']"
   ]
  },
  {
   "cell_type": "code",
   "execution_count": 128,
   "metadata": {
    "collapsed": false
   },
   "outputs": [],
   "source": [
    "d = {'a':[1,1,2,3,1],\n",
    "     'b':[1,2,2,1,2],\n",
    "    'c':['x','y','z','y','x']}\n",
    "dfx = pd.DataFrame(d)"
   ]
  },
  {
   "cell_type": "code",
   "execution_count": 197,
   "metadata": {
    "collapsed": false
   },
   "outputs": [
    {
     "data": {
      "text/plain": [
       "0    1\n",
       "1    1\n",
       "2    2\n",
       "3    3\n",
       "4    1\n",
       "Name: A, dtype: int64"
      ]
     },
     "execution_count": 197,
     "metadata": {},
     "output_type": "execute_result"
    }
   ],
   "source": [
    "q.fillna(0)"
   ]
  },
  {
   "cell_type": "code",
   "execution_count": 177,
   "metadata": {
    "collapsed": false
   },
   "outputs": [],
   "source": [
    "q = dfx['A']"
   ]
  },
  {
   "cell_type": "code",
   "execution_count": 192,
   "metadata": {
    "collapsed": false
   },
   "outputs": [],
   "source": [
    "x = range(2)\n",
    "x[0] = q"
   ]
  },
  {
   "cell_type": "code",
   "execution_count": 189,
   "metadata": {
    "collapsed": false
   },
   "outputs": [],
   "source": [
    "a = dfx['A']\n",
    "b = dfx['B']\n",
    "Q = [a,b]"
   ]
  },
  {
   "cell_type": "code",
   "execution_count": 29,
   "metadata": {
    "collapsed": false
   },
   "outputs": [],
   "source": [
    "a = dfx.groupby(['a','b'])['c'].unique()"
   ]
  },
  {
   "cell_type": "code",
   "execution_count": 109,
   "metadata": {
    "collapsed": true
   },
   "outputs": [],
   "source": [
    "list1 = ['1', '2', '3']\n",
    "str1 = ''.join(list1)"
   ]
  },
  {
   "cell_type": "code",
   "execution_count": 118,
   "metadata": {
    "collapsed": false
   },
   "outputs": [
    {
     "data": {
      "text/plain": [
       "{'A': [1, 2, 3], 'B': [4, 5, 6], 'C': [7, 8, 9], 'index': [0, 1, 2]}"
      ]
     },
     "execution_count": 118,
     "metadata": {},
     "output_type": "execute_result"
    }
   ],
   "source": [
    "x.data"
   ]
  },
  {
   "cell_type": "code",
   "execution_count": 114,
   "metadata": {
    "collapsed": false
   },
   "outputs": [],
   "source": [
    "df3 = pd.DataFrame({'A': [1, 2, 3],\n",
    "    'B': [4, 5, 6],\n",
    "    'C': [7, 8, 9]})\n",
    "# df3.where(lambda x: x > 4, lambda x: x + 10)"
   ]
  },
  {
   "cell_type": "code",
   "execution_count": 371,
   "metadata": {
    "collapsed": false
   },
   "outputs": [
    {
     "data": {
      "text/html": [
       "<div>\n",
       "<table border=\"1\" class=\"dataframe\">\n",
       "  <thead>\n",
       "    <tr style=\"text-align: right;\">\n",
       "      <th></th>\n",
       "      <th></th>\n",
       "      <th>c</th>\n",
       "    </tr>\n",
       "    <tr>\n",
       "      <th>a</th>\n",
       "      <th>b</th>\n",
       "      <th></th>\n",
       "    </tr>\n",
       "  </thead>\n",
       "  <tbody>\n",
       "    <tr>\n",
       "      <th rowspan=\"2\" valign=\"top\">1</th>\n",
       "      <th>1</th>\n",
       "      <td>1</td>\n",
       "    </tr>\n",
       "    <tr>\n",
       "      <th>2</th>\n",
       "      <td>2</td>\n",
       "    </tr>\n",
       "    <tr>\n",
       "      <th>2</th>\n",
       "      <th>2</th>\n",
       "      <td>1</td>\n",
       "    </tr>\n",
       "    <tr>\n",
       "      <th>3</th>\n",
       "      <th>1</th>\n",
       "      <td>1</td>\n",
       "    </tr>\n",
       "  </tbody>\n",
       "</table>\n",
       "</div>"
      ],
      "text/plain": [
       "     c\n",
       "a b   \n",
       "1 1  1\n",
       "  2  2\n",
       "2 2  1\n",
       "3 1  1"
      ]
     },
     "execution_count": 371,
     "metadata": {},
     "output_type": "execute_result"
    }
   ],
   "source": [
    "d = {'a':[1,1,2,3,1],\n",
    "     'b':[1,2,2,1,2],\n",
    "     'c':['x','x','x','x','x']}\n",
    "df1 = pd.DataFrame(d)\n",
    "df1.groupby(['a','b']).count() "
   ]
  },
  {
   "cell_type": "code",
   "execution_count": 376,
   "metadata": {
    "collapsed": false
   },
   "outputs": [],
   "source": [
    "df2 = df1.drop('c',1)\n",
    "q = df2.groupby(['a'])['b'].value_counts() "
   ]
  },
  {
   "cell_type": "code",
   "execution_count": 377,
   "metadata": {
    "collapsed": false
   },
   "outputs": [
    {
     "data": {
      "text/plain": [
       "pandas.core.series.Series"
      ]
     },
     "execution_count": 377,
     "metadata": {},
     "output_type": "execute_result"
    }
   ],
   "source": [
    "type(q)"
   ]
  }
 ],
 "metadata": {
  "kernelspec": {
   "display_name": "Python 2",
   "language": "python",
   "name": "python2"
  },
  "language_info": {
   "codemirror_mode": {
    "name": "ipython",
    "version": 2
   },
   "file_extension": ".py",
   "mimetype": "text/x-python",
   "name": "python",
   "nbconvert_exporter": "python",
   "pygments_lexer": "ipython2",
   "version": "2.7.11"
  }
 },
 "nbformat": 4,
 "nbformat_minor": 0
}
