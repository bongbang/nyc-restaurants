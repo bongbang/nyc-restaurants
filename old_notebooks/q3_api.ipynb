{
 "cells": [
  {
   "cell_type": "code",
   "execution_count": 1,
   "metadata": {
    "collapsed": true
   },
   "outputs": [],
   "source": [
    "from __future__ import division, print_function\n",
    "import pandas as pd\n",
    "import numpy as np"
   ]
  },
  {
   "cell_type": "code",
   "execution_count": 51,
   "metadata": {
    "collapsed": false
   },
   "outputs": [],
   "source": [
    "query = ('https://data.cityofnewyork.us/resource/9w7m-hzhe.json?'\n",
    "    '$select=camis,inspection_date'\n",
    "    '&$where=inspection_date>=\"2012-01-01\"'\n",
    "    '&$limit={}'.format(10**9))\n",
    "df = pd.read_json(query)"
   ]
  },
  {
   "cell_type": "code",
   "execution_count": 52,
   "metadata": {
    "collapsed": false
   },
   "outputs": [],
   "source": [
    "df['inspection_date'] = pd.to_datetime(df['inspection_date'])"
   ]
  },
  {
   "cell_type": "code",
   "execution_count": 53,
   "metadata": {
    "collapsed": false
   },
   "outputs": [],
   "source": [
    "inspect_by_year = df.groupby(df['inspection_date'].map(lambda x:x.year))['camis'].nunique()"
   ]
  },
  {
   "cell_type": "code",
   "execution_count": 54,
   "metadata": {
    "collapsed": false
   },
   "outputs": [
    {
     "data": {
      "text/plain": [
       "inspection_date\n",
       "2012     3510\n",
       "2013    15831\n",
       "2014    19957\n",
       "2015    22754\n",
       "2016    11968\n",
       "Name: camis, dtype: int64"
      ]
     },
     "execution_count": 54,
     "metadata": {},
     "output_type": "execute_result"
    }
   ],
   "source": [
    "inspect_by_year"
   ]
  },
  {
   "cell_type": "code",
   "execution_count": 55,
   "metadata": {
    "collapsed": false
   },
   "outputs": [
    {
     "data": {
      "text/plain": [
       "461237"
      ]
     },
     "execution_count": 55,
     "metadata": {},
     "output_type": "execute_result"
    }
   ],
   "source": [
    "len(df)"
   ]
  },
  {
   "cell_type": "code",
   "execution_count": 56,
   "metadata": {
    "collapsed": true
   },
   "outputs": [],
   "source": [
    "from jinja2 import Template\n",
    "\n",
    "from bokeh.embed import components\n",
    "from bokeh.models import Range1d\n",
    "from bokeh.plotting import figure\n",
    "from bokeh.resources import INLINE\n",
    "from bokeh.util.browser import view\n",
    "\n",
    "# create some data\n",
    "x1 = [0, 1, 2, 3, 4, 5, 6, 7, 8, 9, 10]\n",
    "y1 = [0, 8, 2, 4, 6, 9, 5, 6, 25, 28, 4, 7]\n",
    "x2 = [2, 5, 7, 15, 18, 19, 25, 28, 9, 10, 4]\n",
    "y2 = [2, 4, 6, 9, 15, 18, 0, 8, 2, 25, 28]\n",
    "x3 = [0, 1, 0, 8, 2, 4, 6, 9, 7, 8, 9]\n",
    "y3 = [0, 8, 4, 6, 9, 15, 18, 19, 19, 25, 28]\n",
    "\n",
    "# select the tools we want\n",
    "TOOLS=\"pan,wheel_zoom,box_zoom,reset,save\"\n",
    "\n",
    "# the red and blue graphs will share this data range\n",
    "xr1 = Range1d(start=0, end=30)\n",
    "yr1 = Range1d(start=0, end=30)\n",
    "\n",
    "# only the green will use this data range\n",
    "xr2 = Range1d(start=0, end=30)\n",
    "yr2 = Range1d(start=0, end=30)\n",
    "\n",
    "# build our figures\n",
    "p1 = figure(x_range=xr1, y_range=yr1, tools=TOOLS, plot_width=300, plot_height=300)\n",
    "p1.scatter(x1, y1, size=12, color=\"red\", alpha=0.5)\n",
    "\n",
    "p2 = figure(x_range=xr1, y_range=yr1, tools=TOOLS, plot_width=300, plot_height=300)\n",
    "p2.scatter(x2, y2, size=12, color=\"blue\", alpha=0.5)\n",
    "\n",
    "p3 = figure(x_range=xr2, y_range=yr2, tools=TOOLS, plot_width=300, plot_height=300)\n",
    "p3.scatter(x3, y3, size=12, color=\"green\", alpha=0.5)\n",
    "\n",
    "# plots can be a single Bokeh model, a list/tuple, or even a dictionary\n",
    "plots = {'Red': p1, 'Blue': p2, 'Green': p3}\n",
    "\n",
    "script, div = components(plots)\n",
    "\n",
    "template = Template('''<!DOCTYPE html>\n",
    "<html lang=\"en\">\n",
    "    <head>\n",
    "        <meta charset=\"utf-8\">\n",
    "        <title>Bokeh Scatter Plots</title>\n",
    "        {{ js_resources }}\n",
    "        {{ css_resources }}\n",
    "        {{ script }}\n",
    "    </head>\n",
    "    <body>\n",
    "        {% for key in div.keys() %}\n",
    "            {{ div[key] }}\n",
    "        {% endfor %}\n",
    "    </body>\n",
    "</html>\n",
    "''')\n",
    "\n",
    "js_resources = INLINE.render_js()\n",
    "css_resources = INLINE.render_css()\n",
    "\n",
    "filename = 'embed_multiple.html'\n",
    "\n",
    "html = template.render(js_resources=js_resources,\n",
    "                       css_resources=css_resources,\n",
    "                       script=script,\n",
    "                       div=div)\n",
    "\n",
    "with open(filename, 'w') as f:\n",
    "    f.write(html)\n",
    "\n",
    "view(filename)"
   ]
  },
  {
   "cell_type": "code",
   "execution_count": null,
   "metadata": {
    "collapsed": true
   },
   "outputs": [],
   "source": []
  }
 ],
 "metadata": {
  "kernelspec": {
   "display_name": "Python 2",
   "language": "python",
   "name": "python2"
  },
  "language_info": {
   "codemirror_mode": {
    "name": "ipython",
    "version": 2
   },
   "file_extension": ".py",
   "mimetype": "text/x-python",
   "name": "python",
   "nbconvert_exporter": "python",
   "pygments_lexer": "ipython2",
   "version": "2.7.11"
  }
 },
 "nbformat": 4,
 "nbformat_minor": 0
}
