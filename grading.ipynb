{
 "cells": [
  {
   "cell_type": "markdown",
   "metadata": {},
   "source": [
    "[Data description](http://www.opendatanetwork.com/dataset/data.cityofnewyork.us/9w7m-hzhe) \n",
    "\n",
    "Articles\n",
    "\n",
    "* [Fines lowered](http://www.nydailynews.com/new-york/restaurants-cheer-plan-slash-penalties-article-1.1430407) (nice window photo)\n",
    "* [Grading pooh-poohed](http://www.nydailynews.com/opinion/city-council-throws-rotten-tomatoes-restaurant-grades-article-1.1036545) (grade placards)"
   ]
  },
  {
   "cell_type": "markdown",
   "metadata": {},
   "source": [
    "# Future ideas\n",
    "\n",
    "1. Hall of shame (high scorers)\n",
    "2. Grade not posted\n",
    "3. Violations '7' (obstruction) and 10A (no toilet paper)"
   ]
  },
  {
   "cell_type": "markdown",
   "metadata": {},
   "source": [
    "# Requirements"
   ]
  },
  {
   "cell_type": "code",
   "execution_count": 1,
   "metadata": {
    "collapsed": false
   },
   "outputs": [],
   "source": [
    "from __future__ import division, print_function\n",
    "import pandas as pd\n",
    "import numpy as np\n",
    "import bokeh as bk\n",
    "import pickle\n",
    "\n",
    "import my_functions as mf\n",
    "\n",
    "from bokeh.plotting import figure, output_notebook, show, output_file\n",
    "from bokeh.io import push_notebook, reset_output\n",
    "from bokeh.models import ColumnDataSource, HoverTool, Span, Range1d\n",
    "from bokeh.embed import components"
   ]
  },
  {
   "cell_type": "code",
   "execution_count": 3,
   "metadata": {
    "collapsed": false,
    "scrolled": true
   },
   "outputs": [
    {
     "data": {
      "text/html": [
       "\n",
       "    <div class=\"bk-root\">\n",
       "        <a href=\"http://bokeh.pydata.org\" target=\"_blank\" class=\"bk-logo bk-logo-small bk-logo-notebook\"></a>\n",
       "        <span id=\"420b9b3c-8c95-4b90-a8de-45af9d706ab4\">Loading BokehJS ...</span>\n",
       "    </div>"
      ]
     },
     "metadata": {},
     "output_type": "display_data"
    },
    {
     "data": {
      "application/javascript": [
       "\n",
       "(function(global) {\n",
       "  function now() {\n",
       "    return new Date();\n",
       "  }\n",
       "\n",
       "  if (typeof (window._bokeh_onload_callbacks) === \"undefined\") {\n",
       "    window._bokeh_onload_callbacks = [];\n",
       "  }\n",
       "\n",
       "  function run_callbacks() {\n",
       "    window._bokeh_onload_callbacks.forEach(function(callback) { callback() });\n",
       "    delete window._bokeh_onload_callbacks\n",
       "    console.info(\"Bokeh: all callbacks have finished\");\n",
       "  }\n",
       "\n",
       "  function load_libs(js_urls, callback) {\n",
       "    window._bokeh_onload_callbacks.push(callback);\n",
       "    if (window._bokeh_is_loading > 0) {\n",
       "      console.log(\"Bokeh: BokehJS is being loaded, scheduling callback at\", now());\n",
       "      return null;\n",
       "    }\n",
       "    if (js_urls == null || js_urls.length === 0) {\n",
       "      run_callbacks();\n",
       "      return null;\n",
       "    }\n",
       "    console.log(\"Bokeh: BokehJS not loaded, scheduling load and callback at\", now());\n",
       "    window._bokeh_is_loading = js_urls.length;\n",
       "    for (var i = 0; i < js_urls.length; i++) {\n",
       "      var url = js_urls[i];\n",
       "      var s = document.createElement('script');\n",
       "      s.src = url;\n",
       "      s.async = false;\n",
       "      s.onreadystatechange = s.onload = function() {\n",
       "        window._bokeh_is_loading--;\n",
       "        if (window._bokeh_is_loading === 0) {\n",
       "          console.log(\"Bokeh: all BokehJS libraries loaded\");\n",
       "          run_callbacks()\n",
       "        }\n",
       "      };\n",
       "      s.onerror = function() {\n",
       "        console.warn(\"failed to load library \" + url);\n",
       "      };\n",
       "      console.log(\"Bokeh: injecting script tag for BokehJS library: \", url);\n",
       "      document.getElementsByTagName(\"head\")[0].appendChild(s);\n",
       "    }\n",
       "  };\n",
       "\n",
       "  var js_urls = ['https://cdn.pydata.org/bokeh/release/bokeh-0.12.0.min.js', 'https://cdn.pydata.org/bokeh/release/bokeh-widgets-0.12.0.min.js', 'https://cdn.pydata.org/bokeh/release/bokeh-compiler-0.12.0.min.js'];\n",
       "\n",
       "  var inline_js = [\n",
       "    function(Bokeh) {\n",
       "      Bokeh.set_log_level(\"info\");\n",
       "    },\n",
       "    \n",
       "    function(Bokeh) {\n",
       "      Bokeh.$(\"#420b9b3c-8c95-4b90-a8de-45af9d706ab4\").text(\"BokehJS successfully loaded\");\n",
       "    },\n",
       "    function(Bokeh) {\n",
       "      console.log(\"Bokeh: injecting CSS: https://cdn.pydata.org/bokeh/release/bokeh-0.12.0.min.css\");\n",
       "      Bokeh.embed.inject_css(\"https://cdn.pydata.org/bokeh/release/bokeh-0.12.0.min.css\");\n",
       "      console.log(\"Bokeh: injecting CSS: https://cdn.pydata.org/bokeh/release/bokeh-widgets-0.12.0.min.css\");\n",
       "      Bokeh.embed.inject_css(\"https://cdn.pydata.org/bokeh/release/bokeh-widgets-0.12.0.min.css\");\n",
       "    }\n",
       "  ];\n",
       "\n",
       "  function run_inline_js() {\n",
       "    for (var i = 0; i < inline_js.length; i++) {\n",
       "      inline_js[i](window.Bokeh);\n",
       "    }\n",
       "  }\n",
       "\n",
       "  if (window._bokeh_is_loading === 0) {\n",
       "    console.log(\"Bokeh: BokehJS loaded, going straight to plotting\");\n",
       "    run_inline_js();\n",
       "  } else {\n",
       "    load_libs(js_urls, function() {\n",
       "      console.log(\"Bokeh: BokehJS plotting callback run at\", now());\n",
       "      run_inline_js();\n",
       "    });\n",
       "  }\n",
       "}(this));"
      ]
     },
     "metadata": {},
     "output_type": "display_data"
    }
   ],
   "source": [
    "output_notebook()"
   ]
  },
  {
   "cell_type": "markdown",
   "metadata": {},
   "source": [
    "# Load data"
   ]
  },
  {
   "cell_type": "code",
   "execution_count": 4,
   "metadata": {
    "collapsed": true
   },
   "outputs": [],
   "source": [
    "df15 = pd.read_csv('inspected_2015.csv',\n",
    "                   parse_dates=['INSPECTION DATE','GRADE DATE'])\n",
    "original_file = 'DOHMH_New_York_City_Restaurant_Inspection_Results_new.csv'"
   ]
  },
  {
   "cell_type": "code",
   "execution_count": 5,
   "metadata": {
    "collapsed": false
   },
   "outputs": [],
   "source": [
    "with open('dicts.pickle','rb') as f:\n",
    "    dict_action, dict_violation = pickle.load(f)"
   ]
  },
  {
   "cell_type": "markdown",
   "metadata": {},
   "source": [
    "# Grade breakdown"
   ]
  },
  {
   "cell_type": "code",
   "execution_count": 5,
   "metadata": {
    "collapsed": true
   },
   "outputs": [],
   "source": [
    "grades = df15[df15['GRADE'].isin(['A','B','C'])].groupby(['CAMIS'])['GRADE'].unique()\n",
    "grades = grades.apply(lambda x: x[0]).value_counts()"
   ]
  },
  {
   "cell_type": "code",
   "execution_count": 6,
   "metadata": {
    "collapsed": false
   },
   "outputs": [],
   "source": [
    "dft = pd.concat([grades, grades/grades.sum()], axis=1)\n",
    "dft.columns = ['count','percent']"
   ]
  },
  {
   "cell_type": "code",
   "execution_count": 8,
   "metadata": {
    "collapsed": false
   },
   "outputs": [],
   "source": [
    "percents = np.concatenate(([0],np.cumsum(dft['percent']).values))\n",
    "ends = [-p*2*np.pi for p in percents[:-1]]\n",
    "starts = [-p*2*np.pi for p in percents[1:]]\n",
    "\n",
    "reset_output()\n",
    "p = figure(title = 'NYC restaurant grade distribution 2015',\n",
    "           x_range=(-1,1), y_range=(-1,1),\n",
    "           width = 450,\n",
    "           height = 380,\n",
    "           tools='save')\n",
    "\n",
    "colors = [mf.A_color, mf.B_color, mf.C_color]\n",
    "\n",
    "for i in range(3):\n",
    "    p.wedge(x=0, y=-.2, radius=.5, \n",
    "            start_angle= starts[i], end_angle= ends[i], \n",
    "            color=colors[i],\n",
    "            legend='{}: {:>3.0f}%'.format(dft.index[i], dft['percent'][i]*100))\n",
    "\n",
    "p.title_text_font_size = mf.title_font\n",
    "\n",
    "p.outline_line_color = None\n",
    "p.axis.axis_line_color = None\n",
    "p.grid.grid_line_color = None\n",
    "\n",
    "p.axis.major_tick_line_color = None\n",
    "p.axis.minor_tick_line_color = None\n",
    "p.axis.axis_label_text_color = None\n",
    "p.axis.major_label_text_color = None\n",
    "\n",
    "p.min_border_bottom = 0\n",
    "\n",
    "mf.plot_output(p,'Grade_distribution')"
   ]
  },
  {
   "cell_type": "markdown",
   "metadata": {},
   "source": [
    "## Score distribution"
   ]
  },
  {
   "cell_type": "markdown",
   "metadata": {},
   "source": [
    "## Initial inspection"
   ]
  },
  {
   "cell_type": "code",
   "execution_count": 6,
   "metadata": {
    "collapsed": false
   },
   "outputs": [
    {
     "name": "stdout",
     "output_type": "stream",
     "text": [
      "Restaurants covered: 22360\n"
     ]
    }
   ],
   "source": [
    "inspection_type = ['Pre-permit (Operational) / Initial Inspection',\n",
    "                   'Cycle Inspection / Initial Inspection']\n",
    "\n",
    "print('Restaurants covered:', df15[df15['INSPECTION TYPE'].isin(inspection_type)]['CAMIS'].nunique())\n",
    "\n",
    "dft = df15[df15['INSPECTION TYPE'].isin(inspection_type)].groupby(\n",
    "                  ['INSPECTION DATE','CAMIS'])['SCORE'].unique()\n",
    "dft = dft.map(lambda x: x[0])\n",
    "st = dft.value_counts()\n",
    "st = st[st.index>=0] # Get rid of -1 scores"
   ]
  },
  {
   "cell_type": "code",
   "execution_count": 29,
   "metadata": {
    "collapsed": false
   },
   "outputs": [],
   "source": [
    "# mf.score_distribution_plot(st,'Initial inspection score distribution')\n",
    "# def score_distribution_plot(score_distribution,title):\n",
    "\n",
    "score_distribution = st\n",
    "title = 'Initial inspection score distribution 2015'\n",
    "\n",
    "title_font = '13pt'\n",
    "axis_font = '10pt'\n",
    "days_of_week = ['Mon','Tue','Wed','Thu','Fri','Sat','Sun']\n",
    "\n",
    "A_color = '#1f77b4'\n",
    "B_color = 'limegreen'\n",
    "C_color = 'orange'\n",
    "\n",
    "\n",
    "reset_output()\n",
    "n = score_distribution.sum()\n",
    "\n",
    "score_distribution = score_distribution.to_frame(name='freq')\n",
    "score_distribution['half'] = score_distribution['freq']/2\n",
    "score_distribution['percent'] = score_distribution['freq']/n\n",
    "\n",
    "dt = score_distribution[score_distribution.index < 13.5] # A \n",
    "A_source = ColumnDataSource(dt.to_dict('list'))\n",
    "A_source.add(dt.index,name='score')\n",
    "\n",
    "dt = score_distribution[(score_distribution.index > 13.5) & (score_distribution.index < 27.5)] # B \n",
    "B_source = ColumnDataSource(dt.to_dict('list'))\n",
    "B_source.add(dt.index,name='score')\n",
    "\n",
    "dt = score_distribution[score_distribution.index > 27.5] # C \n",
    "C_source = ColumnDataSource(dt.to_dict('list'))\n",
    "C_source.add(dt.index,name='score')\n",
    "\n",
    "wh = 450\n",
    "p = figure(title=title,\n",
    "          x_axis_label='score',\n",
    "          y_axis_label='count',\n",
    "          plot_width = wh,\n",
    "          plot_height = wh,\n",
    "          x_range = Range1d(-3,120),\n",
    "          y_range = Range1d(0,3000))\n",
    "hover = HoverTool(tooltips=[('score','@score'),\n",
    "                            ('count','@freq'),\n",
    "                            ('percent','@percent{0.0%}')])\n",
    "p.add_tools(hover)\n",
    "\n",
    "def histo(p,source,color,grade):\n",
    "    tally = sum(source.data['freq'])\n",
    "    p.rect('score','half',\n",
    "           width=1,\n",
    "           height='freq',\n",
    "           fill_color=color,\n",
    "           line_color=color,\n",
    "           hover_fill_color=color,\n",
    "           hover_line_color='#333333',\n",
    "           legend='{}: {:>3.0f}%'.format(grade, tally*100/n),\n",
    "           source=source)\n",
    "\n",
    "histo(p, A_source, A_color,'A')\n",
    "histo(p, B_source, B_color,'B')\n",
    "histo(p, C_source, C_color,'C')\n",
    "\n",
    "p.title.text_font_size = title_font\n",
    "p.xaxis.axis_label_text_font_size = axis_font\n",
    "p.yaxis.axis_label_text_font_size = axis_font\n",
    "\n",
    "from bokeh.models import Arrow, NormalHead, Label\n",
    "crevass_arrow = Arrow(end=NormalHead(size=5),\n",
    "                        x_start= 28, y_start=1300,\n",
    "                      x_end=15, y_end=1000)\n",
    "p.add_layout(crevass_arrow)\n",
    "crevass_label = Label(x=28, y=1300, \n",
    "                      text='unnatural crevasse', render_mode='css')\n",
    "p.add_layout(crevass_label)\n",
    "\n",
    "x_pos = 40\n",
    "y_pos = 700\n",
    "no_crevass_arrow = Arrow(end=NormalHead(size=5),\n",
    "                        x_start=x_pos, y_start=y_pos,\n",
    "                      x_end=27.5, y_end=400)\n",
    "p.add_layout(no_crevass_arrow)\n",
    "no_crevass_label = Label(x=x_pos, y=y_pos, \n",
    "                      text='no crevasse', render_mode='css')\n",
    "p.add_layout(no_crevass_label)\n",
    "\n",
    "\n",
    "\n",
    "# Label(x=70, y=70, x_units='screen' text='Some Stuff', render_mode='css',\n",
    "#      border_line_color='black', border_line_alpha=1.0,\n",
    "#     background_fill_color='white', background_fill_alpha=1.0)\n",
    "\n",
    "\n",
    "mf.plot_output(p,title.replace(' ','_'))"
   ]
  },
  {
   "cell_type": "code",
   "execution_count": 7,
   "metadata": {
    "collapsed": false,
    "scrolled": true
   },
   "outputs": [],
   "source": [
    "from bokeh.models import Label"
   ]
  },
  {
   "cell_type": "markdown",
   "metadata": {},
   "source": [
    "## Reinspection"
   ]
  },
  {
   "cell_type": "code",
   "execution_count": 13,
   "metadata": {
    "collapsed": false
   },
   "outputs": [
    {
     "name": "stdout",
     "output_type": "stream",
     "text": [
      "Restaurants covered: 11491\n"
     ]
    }
   ],
   "source": [
    "inspection_type = ['Pre-permit (Operational) / Re-inspection',\n",
    "                   'Cycle Inspection / Re-inspection']\n",
    "\n",
    "print('Restaurants covered:', df15[df15['INSPECTION TYPE'].isin(inspection_type)]['CAMIS'].nunique())\n",
    "\n",
    "dft = df15[df15['INSPECTION TYPE'].isin(inspection_type)].groupby(\n",
    "                  ['INSPECTION DATE','CAMIS'])['SCORE'].unique()\n",
    "dft = dft.map(lambda x: x[0])\n",
    "st = dft.value_counts()\n",
    "st = st[st.index>=0] # Get rid of -1 scores"
   ]
  },
  {
   "cell_type": "code",
   "execution_count": 14,
   "metadata": {
    "collapsed": false
   },
   "outputs": [],
   "source": [
    "mf.score_distribution_plot(st,'Re-inspection score distribution')"
   ]
  },
  {
   "cell_type": "markdown",
   "metadata": {},
   "source": [
    "# Closed"
   ]
  },
  {
   "cell_type": "code",
   "execution_count": 14,
   "metadata": {
    "collapsed": false
   },
   "outputs": [],
   "source": [
    "closed = df15[df15['ACTION']==2].groupby(['CAMIS','INSPECTION DATE'])['SCORE'].unique().map(lambda x: x[0])"
   ]
  },
  {
   "cell_type": "code",
   "execution_count": 19,
   "metadata": {
    "collapsed": false
   },
   "outputs": [],
   "source": [
    "closed = closed[closed >= 0]"
   ]
  },
  {
   "cell_type": "code",
   "execution_count": 20,
   "metadata": {
    "collapsed": false
   },
   "outputs": [
    {
     "data": {
      "text/plain": [
       "count    631.000000\n",
       "mean      47.437401\n",
       "std       18.690176\n",
       "min        0.000000\n",
       "25%       38.000000\n",
       "50%       47.000000\n",
       "75%       56.000000\n",
       "max      117.000000\n",
       "Name: SCORE, dtype: float64"
      ]
     },
     "execution_count": 20,
     "metadata": {},
     "output_type": "execute_result"
    }
   ],
   "source": [
    "closed.describe()"
   ]
  },
  {
   "cell_type": "code",
   "execution_count": 24,
   "metadata": {
    "collapsed": false
   },
   "outputs": [],
   "source": [
    "dft = closed.value_counts()"
   ]
  },
  {
   "cell_type": "code",
   "execution_count": null,
   "metadata": {
    "collapsed": true
   },
   "outputs": [],
   "source": [
    "mf.score_distribution_plot(dft, 'closed score distribution')"
   ]
  },
  {
   "cell_type": "markdown",
   "metadata": {},
   "source": [
    "# Common violations"
   ]
  },
  {
   "cell_type": "code",
   "execution_count": 15,
   "metadata": {
    "collapsed": false
   },
   "outputs": [
    {
     "name": "stderr",
     "output_type": "stream",
     "text": [
      "C:\\Anaconda\\lib\\site-packages\\pandas\\core\\indexing.py:288: SettingWithCopyWarning: \n",
      "A value is trying to be set on a copy of a slice from a DataFrame.\n",
      "Try using .loc[row_indexer,col_indexer] = value instead\n",
      "\n",
      "See the caveats in the documentation: http://pandas.pydata.org/pandas-docs/stable/indexing.html#indexing-view-versus-copy\n",
      "  self.obj[key] = _infer_fill_value(value)\n",
      "C:\\Anaconda\\lib\\site-packages\\pandas\\core\\indexing.py:465: SettingWithCopyWarning: \n",
      "A value is trying to be set on a copy of a slice from a DataFrame.\n",
      "Try using .loc[row_indexer,col_indexer] = value instead\n",
      "\n",
      "See the caveats in the documentation: http://pandas.pydata.org/pandas-docs/stable/indexing.html#indexing-view-versus-copy\n",
      "  self.obj[item] = s\n"
     ]
    }
   ],
   "source": [
    "violation_prevalence = df15.groupby('VIOLATION CODE')['CAMIS'].nunique()\n",
    "restaurant_number = df15['CAMIS'].nunique()\n",
    "\n",
    "violation_prevalence = pd.concat([violation_prevalence,\n",
    "                                  violation_prevalence*100/restaurant_number,\n",
    "                                  pd.Series(dict_violation)],\n",
    "                                 join='inner',axis=1)\n",
    "violation_prevalence.index.name = 'violation_code'\n",
    "violation_prevalence.columns = ['number','percentage','description']\n",
    "violation_prevalence.sort_values('percentage',inplace=True,ascending=False)\n",
    "\n",
    "from bokeh.models import Range1d\n",
    "from bokeh.models import NumeralTickFormatter\n",
    "\n",
    "dft = violation_prevalence[violation_prevalence['percentage']>=20]\n",
    "dft.loc[:,'order'] = range(len(dft),0,-1) # chart start at 1\n",
    "dft.loc[:,'half'] = dft['percentage']/2"
   ]
  },
  {
   "cell_type": "code",
   "execution_count": 16,
   "metadata": {
    "collapsed": false
   },
   "outputs": [
    {
     "name": "stderr",
     "output_type": "stream",
     "text": [
      "C:\\Anaconda\\lib\\site-packages\\bokeh\\core\\properties.py:714: BokehDeprecationWarning: bokeh.models.annotations.orientation was deprecated in Bokeh 0.11; please use Legend.location instead\n",
      "  super(HasProps, self).__setattr__(name, value)\n"
     ]
    }
   ],
   "source": [
    "hover = HoverTool(tooltips=[('code','@violation_code'),\n",
    "                            ('prevalence','@percentage{1.1}%'),\n",
    "                            ('description','@description')])\n",
    "\n",
    "wh = 450\n",
    "reset_output()\n",
    "p = figure(title = 'Common violations in 2015',\n",
    "           plot_width = wh,\n",
    "           plot_height = wh,\n",
    "           x_axis_label = 'percent of restaurants inspected',\n",
    "#           y_axis_label = 'violation code (hover for description)',\n",
    "           tools = 'save',\n",
    "           x_range = Range1d(0,70), \n",
    "           y_range = dft.index.tolist()[::-1])\n",
    "p.add_tools(hover)\n",
    "\n",
    "# Critical violations\n",
    "phh_set = ['02G','02B','04H']\n",
    "\n",
    "phh = ColumnDataSource(dft[dft.index.isin(phh_set)])\n",
    "critical = ColumnDataSource(dft[(dft.index < '08') & ~dft.index.isin(phh_set)])\n",
    "general = ColumnDataSource(dft[dft.index > '08'])\n",
    "\n",
    "sources = [phh,critical,general]\n",
    "legends = ['critical - PHH','critical - other','general']\n",
    "colors = ['crimson','coral','#1f77b4']\n",
    "\n",
    "for i in range(len(sources)):\n",
    "    p.rect('half', 'order', width='percentage', \n",
    "           height=0.4,\n",
    "           color=colors[i],\n",
    "           legend=legends[i],\n",
    "           source=sources[i])\n",
    "\n",
    "p.legend.orientation = 'bottom_right'\n",
    "p.xaxis[0].formatter = NumeralTickFormatter(format=\"0\")\n",
    "p.yaxis.major_tick_line_color = None\n",
    "p.ygrid.grid_line_color = None\n",
    "\n",
    "p.title_text_font_size = mf.title_font\n",
    "p.xaxis.axis_label_text_font_size = mf.axis_font\n",
    "p.yaxis.axis_label_text_font_size = mf.axis_font\n",
    "\n",
    "\n",
    "mf.plot_output(p,'violations')"
   ]
  },
  {
   "cell_type": "markdown",
   "metadata": {},
   "source": [
    "# Violations"
   ]
  },
  {
   "cell_type": "code",
   "execution_count": 44,
   "metadata": {
    "collapsed": false
   },
   "outputs": [
    {
     "name": "stdout",
     "output_type": "stream",
     "text": [
      "critical violations: 50\n",
      "general violations: 18\n",
      "unscored violations: 30\n",
      "total: 98\n"
     ]
    }
   ],
   "source": [
    "print('critical violations:', sum(x < '08' for x in dict_violation.keys()))\n",
    "print('general violations:', sum((x > '08') & (x < '11')  for x in dict_violation.keys()) + 1)\n",
    "# includes '10K' (not in scoresheet) and + 1  for '99B' ('Other general')\n",
    "print('unscored violations:', sum((x > '15') & (x < '99')  for x in dict_violation.keys()))\n",
    "print('total:', len(dict_violation))"
   ]
  },
  {
   "cell_type": "code",
   "execution_count": 17,
   "metadata": {
    "collapsed": false,
    "scrolled": true
   },
   "outputs": [],
   "source": [
    "from bokeh.models import Range1d\n",
    "from bokeh.models import NumeralTickFormatter\n",
    "\n",
    "def violation_prevalence_plot(violation_set, df=df15, upper=40):\n",
    "    if not isinstance(violation_set,list):\n",
    "        violation_set = [violation_set]\n",
    "\n",
    "    initial_type = ['Pre-permit (Operational) / Initial Inspection',\n",
    "               'Cycle Inspection / Initial Inspection']\n",
    "\n",
    "    reinspect_type = ['Pre-permit (Operational) / Re-inspection',\n",
    "               'Cycle Inspection / Re-inspection']\n",
    "\n",
    "    inspection_type = [initial_type, reinspect_type]\n",
    "\n",
    "    s_list = range(2)\n",
    "\n",
    "    for i in range(2):\n",
    "        dft = df[df['INSPECTION TYPE'].isin(inspection_type[i]) \n",
    "                 & (df['SCORE'] <= upper)][[\n",
    "                'INSPECTION DATE','CAMIS','VIOLATION CODE','SCORE']]\n",
    "        score_count = dft.groupby(['SCORE','INSPECTION DATE'])['CAMIS'].nunique().sum(level=0) \n",
    "        violation_count = dft[dft['VIOLATION CODE'].isin(violation_set)].groupby(\n",
    "            ['SCORE','INSPECTION DATE'])['CAMIS'].nunique().sum(level=0)\n",
    "        percentage = violation_count/score_count\n",
    "        percentage = percentage.reindex(range(percentage.index.max()+1))\n",
    "        percentage.name = 'percent'\n",
    "        s_list[i] = percentage.fillna(0)\n",
    "\n",
    "    source = range(2)\n",
    "    source[0] = ColumnDataSource(s_list[0].to_frame())\n",
    "    source[1] = ColumnDataSource(s_list[1].to_frame())\n",
    "\n",
    "    wh = 450\n",
    "    reset_output()\n",
    "    p = figure(title='Prevalence of {} violation by score'.format(', '.join(violation_set)),\n",
    "           x_axis_label='score',\n",
    "           width = wh,\n",
    "           height = wh,\n",
    "           x_range = Range1d(0,upper),\n",
    "           y_range = Range1d(0,1),\n",
    "               tools = ['resize','save','reset']\n",
    "          )\n",
    "    hover = HoverTool(tooltips='@SCORE, @percent{1.%}')\n",
    "    p.add_tools(hover)\n",
    "\n",
    "    color_list = ['#1f77b4','coral']\n",
    "    legend_list = ['initial inspection','re-inspection']\n",
    "\n",
    "    for i in range(2):        \n",
    "        p.line('SCORE', 'percent', color=color_list[i], legend=legend_list[i], source=source[i],\n",
    "        #          line_width=1\n",
    "              )\n",
    "        p.square('SCORE', 'percent', color=color_list[i], legend=legend_list[i], source=source[i],\n",
    "        #            size=4\n",
    "                )\n",
    "\n",
    "    p.line([13.5,13.5],[-2,2],line_dash='dashed',color='limegreen')\n",
    "    p.line([27.5,27.5],[-2,2],line_dash='dashed',color='orange')    \n",
    "\n",
    "\n",
    "    p.yaxis[0].formatter = NumeralTickFormatter(format=\"0%\")\n",
    "\n",
    "    p.title_text_font_size = mf.title_font\n",
    "    p.xaxis.axis_label_text_font_size = mf.axis_font\n",
    "    p.yaxis.axis_label_text_font_size = mf.axis_font\n",
    "\n",
    "    mf.plot_output(p,'{}_prevalence'.format('_'.join(violation_set)))"
   ]
  },
  {
   "cell_type": "code",
   "execution_count": 18,
   "metadata": {
    "collapsed": false
   },
   "outputs": [],
   "source": [
    "violation_prevalence_plot('02G')"
   ]
  },
  {
   "cell_type": "code",
   "execution_count": 19,
   "metadata": {
    "collapsed": false
   },
   "outputs": [],
   "source": [
    "violation_prevalence_plot('08A')"
   ]
  },
  {
   "cell_type": "code",
   "execution_count": 20,
   "metadata": {
    "collapsed": false
   },
   "outputs": [],
   "source": [
    "violation_prevalence_plot('10F')"
   ]
  },
  {
   "cell_type": "markdown",
   "metadata": {},
   "source": [
    "# Sandbox"
   ]
  },
  {
   "cell_type": "code",
   "execution_count": 130,
   "metadata": {
    "collapsed": false
   },
   "outputs": [],
   "source": [
    "dfx.columns = ['A','B','C']"
   ]
  },
  {
   "cell_type": "code",
   "execution_count": 128,
   "metadata": {
    "collapsed": false
   },
   "outputs": [],
   "source": [
    "d = {'a':[1,1,2,3,1],\n",
    "     'b':[1,2,2,1,2],\n",
    "    'c':['x','y','z','y','x']}\n",
    "dfx = pd.DataFrame(d)"
   ]
  },
  {
   "cell_type": "code",
   "execution_count": 197,
   "metadata": {
    "collapsed": false
   },
   "outputs": [
    {
     "data": {
      "text/plain": [
       "0    1\n",
       "1    1\n",
       "2    2\n",
       "3    3\n",
       "4    1\n",
       "Name: A, dtype: int64"
      ]
     },
     "execution_count": 197,
     "metadata": {},
     "output_type": "execute_result"
    }
   ],
   "source": [
    "q.fillna(0)"
   ]
  },
  {
   "cell_type": "code",
   "execution_count": 177,
   "metadata": {
    "collapsed": false
   },
   "outputs": [],
   "source": [
    "q = dfx['A']"
   ]
  },
  {
   "cell_type": "code",
   "execution_count": 192,
   "metadata": {
    "collapsed": false
   },
   "outputs": [],
   "source": [
    "x = range(2)\n",
    "x[0] = q"
   ]
  },
  {
   "cell_type": "code",
   "execution_count": 189,
   "metadata": {
    "collapsed": false
   },
   "outputs": [],
   "source": [
    "a = dfx['A']\n",
    "b = dfx['B']\n",
    "Q = [a,b]"
   ]
  },
  {
   "cell_type": "code",
   "execution_count": 187,
   "metadata": {
    "collapsed": false
   },
   "outputs": [
    {
     "data": {
      "text/plain": [
       "[<bokeh.models.sources.ColumnDataSource at 0xc14ad30>,\n",
       " <bokeh.models.sources.ColumnDataSource at 0xc14ada0>]"
      ]
     },
     "execution_count": 187,
     "metadata": {},
     "output_type": "execute_result"
    }
   ],
   "source": [
    "a = ColumnDataSource(dfx)\n",
    "b = ColumnDataSource(dfx)\n",
    "[a,b]"
   ]
  },
  {
   "cell_type": "code",
   "execution_count": 29,
   "metadata": {
    "collapsed": false
   },
   "outputs": [],
   "source": [
    "a = dfx.groupby(['a','b'])['c'].unique()"
   ]
  },
  {
   "cell_type": "code",
   "execution_count": 109,
   "metadata": {
    "collapsed": true
   },
   "outputs": [],
   "source": [
    "list1 = ['1', '2', '3']\n",
    "str1 = ''.join(list1)"
   ]
  },
  {
   "cell_type": "code",
   "execution_count": 114,
   "metadata": {
    "collapsed": false
   },
   "outputs": [],
   "source": [
    "df3 = pd.DataFrame({'A': [1, 2, 3],\n",
    "    'B': [4, 5, 6],\n",
    "    'C': [7, 8, 9]})\n",
    "# df3.where(lambda x: x > 4, lambda x: x + 10)"
   ]
  },
  {
   "cell_type": "code",
   "execution_count": 118,
   "metadata": {
    "collapsed": false
   },
   "outputs": [
    {
     "data": {
      "text/plain": [
       "{'A': [1, 2, 3], 'B': [4, 5, 6], 'C': [7, 8, 9], 'index': [0, 1, 2]}"
      ]
     },
     "execution_count": 118,
     "metadata": {},
     "output_type": "execute_result"
    }
   ],
   "source": [
    "x = ColumnDataSource(df3)\n",
    "x.data"
   ]
  },
  {
   "cell_type": "code",
   "execution_count": 371,
   "metadata": {
    "collapsed": false
   },
   "outputs": [
    {
     "data": {
      "text/html": [
       "<div>\n",
       "<table border=\"1\" class=\"dataframe\">\n",
       "  <thead>\n",
       "    <tr style=\"text-align: right;\">\n",
       "      <th></th>\n",
       "      <th></th>\n",
       "      <th>c</th>\n",
       "    </tr>\n",
       "    <tr>\n",
       "      <th>a</th>\n",
       "      <th>b</th>\n",
       "      <th></th>\n",
       "    </tr>\n",
       "  </thead>\n",
       "  <tbody>\n",
       "    <tr>\n",
       "      <th rowspan=\"2\" valign=\"top\">1</th>\n",
       "      <th>1</th>\n",
       "      <td>1</td>\n",
       "    </tr>\n",
       "    <tr>\n",
       "      <th>2</th>\n",
       "      <td>2</td>\n",
       "    </tr>\n",
       "    <tr>\n",
       "      <th>2</th>\n",
       "      <th>2</th>\n",
       "      <td>1</td>\n",
       "    </tr>\n",
       "    <tr>\n",
       "      <th>3</th>\n",
       "      <th>1</th>\n",
       "      <td>1</td>\n",
       "    </tr>\n",
       "  </tbody>\n",
       "</table>\n",
       "</div>"
      ],
      "text/plain": [
       "     c\n",
       "a b   \n",
       "1 1  1\n",
       "  2  2\n",
       "2 2  1\n",
       "3 1  1"
      ]
     },
     "execution_count": 371,
     "metadata": {},
     "output_type": "execute_result"
    }
   ],
   "source": [
    "d = {'a':[1,1,2,3,1],\n",
    "     'b':[1,2,2,1,2],\n",
    "     'c':['x','x','x','x','x']}\n",
    "df1 = pd.DataFrame(d)\n",
    "df1.groupby(['a','b']).count() "
   ]
  },
  {
   "cell_type": "code",
   "execution_count": 376,
   "metadata": {
    "collapsed": false
   },
   "outputs": [],
   "source": [
    "df2 = df1.drop('c',1)\n",
    "q = df2.groupby(['a'])['b'].value_counts() "
   ]
  }
 ],
 "metadata": {
  "kernelspec": {
   "display_name": "Python 2",
   "language": "python",
   "name": "python2"
  },
  "language_info": {
   "codemirror_mode": {
    "name": "ipython",
    "version": 2
   },
   "file_extension": ".py",
   "mimetype": "text/x-python",
   "name": "python",
   "nbconvert_exporter": "python",
   "pygments_lexer": "ipython2",
   "version": "2.7.11"
  }
 },
 "nbformat": 4,
 "nbformat_minor": 0
}
